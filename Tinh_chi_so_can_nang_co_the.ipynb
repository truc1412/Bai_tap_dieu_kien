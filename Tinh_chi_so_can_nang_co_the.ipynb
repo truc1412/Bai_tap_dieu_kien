{
 "cells": [
  {
   "cell_type": "code",
   "execution_count": 7,
   "id": "a94ba4b9",
   "metadata": {},
   "outputs": [
    {
     "name": "stdout",
     "output_type": "stream",
     "text": [
      "Nhập cân nặng: 90\n",
      "Nhập chiều cao: 1.67\n",
      "Béo phì cấp độ I\n"
     ]
    }
   ],
   "source": [
    "a=float(input(\"Nhập cân nặng: \"))\n",
    "b=float(input(\"Nhập chiều cao: \"))\n",
    "bmi=a/(b**2)\n",
    "if bmi>40:\n",
    "    print(\"Béo phì cấp độ III\")\n",
    "elif bmi>=35 and bmi < 40:\n",
    "    print(\"Béo phì cấp độ II\")\n",
    "elif bmi>=30 and bmi < 35:\n",
    "    print(\"Béo phì cấp độ I\")\n",
    "elif bmi>=25 and bmi < 30:\n",
    "    print(\"Thừa cân\")\n",
    "elif bmi>=18.5 and bmi < 25:\n",
    "    print(\"Bình thường\")\n",
    "elif bmi>=17 and bmi < 18.5:\n",
    "    print(\"Gầy cấp độ I\")\n",
    "elif bmi>=16 and bmi < 17:\n",
    "    print(\"Gầy cấp độ II\")\n",
    "elif bmi < 16:\n",
    "    print(\"Gầy cấp độ I\")"
   ]
  },
  {
   "cell_type": "code",
   "execution_count": null,
   "id": "ca2579f0",
   "metadata": {},
   "outputs": [],
   "source": []
  },
  {
   "cell_type": "code",
   "execution_count": null,
   "id": "1ff4a950",
   "metadata": {},
   "outputs": [],
   "source": []
  }
 ],
 "metadata": {
  "kernelspec": {
   "display_name": "Python 3 (ipykernel)",
   "language": "python",
   "name": "python3"
  },
  "language_info": {
   "codemirror_mode": {
    "name": "ipython",
    "version": 3
   },
   "file_extension": ".py",
   "mimetype": "text/x-python",
   "name": "python",
   "nbconvert_exporter": "python",
   "pygments_lexer": "ipython3",
   "version": "3.9.13"
  }
 },
 "nbformat": 4,
 "nbformat_minor": 5
}
