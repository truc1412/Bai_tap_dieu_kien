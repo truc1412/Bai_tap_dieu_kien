{
 "cells": [
  {
   "cell_type": "code",
   "execution_count": 6,
   "id": "bd020784",
   "metadata": {},
   "outputs": [
    {
     "name": "stdout",
     "output_type": "stream",
     "text": [
      "Nhập giá trị: 2\n",
      "Số chẵn\n"
     ]
    }
   ],
   "source": [
    "a=float(input(\"Nhập giá trị: \"))\n",
    "if a%2 == 0:\n",
    "    print(\"Số chẵn\")\n",
    "elif a%2 == 1:\n",
    "    print(\"Số lẻ\")\n",
    "else:\n",
    "    print(\"Không phải số tự nhiên\")"
   ]
  },
  {
   "cell_type": "code",
   "execution_count": null,
   "id": "7b6fa8f8",
   "metadata": {},
   "outputs": [],
   "source": []
  },
  {
   "cell_type": "code",
   "execution_count": null,
   "id": "309f94bf",
   "metadata": {},
   "outputs": [],
   "source": []
  }
 ],
 "metadata": {
  "kernelspec": {
   "display_name": "Python 3 (ipykernel)",
   "language": "python",
   "name": "python3"
  },
  "language_info": {
   "codemirror_mode": {
    "name": "ipython",
    "version": 3
   },
   "file_extension": ".py",
   "mimetype": "text/x-python",
   "name": "python",
   "nbconvert_exporter": "python",
   "pygments_lexer": "ipython3",
   "version": "3.9.13"
  }
 },
 "nbformat": 4,
 "nbformat_minor": 5
}
